{
 "cells": [
  {
   "cell_type": "code",
   "execution_count": 311,
   "metadata": {},
   "outputs": [],
   "source": [
    "# from IPython.core.display import display, HTML\n",
    "# display(HTML(\"<style>.container { width:100% !important; }</style>\"))\n",
    "\n",
    "import requests\n",
    "import time\n",
    "from bs4 import BeautifulSoup\n",
    "from itertools import chain\n",
    "from collections import Counter\n",
    "import matplotlib.pyplot as plt"
   ]
  },
  {
   "cell_type": "code",
   "execution_count": 359,
   "metadata": {
    "scrolled": true
   },
   "outputs": [
    {
     "name": "stdout",
     "output_type": "stream",
     "text": [
      "Page #0, first vacancy --> ('Senior Mobile Developer', 'https://hh.ru/vacancy/35044841?query=data%20engineer')\n",
      "Page #1, first vacancy --> ('Специалист технической поддержки / Customer support engineer', 'https://hh.ru/vacancy/34906947?query=data%20engineer')\n",
      "Page #2, first vacancy --> ('Senior Linux Engineer', 'https://hh.ru/vacancy/35003477?query=data%20engineer')\n",
      "Page #3, first vacancy --> ('Artificial Intelligence and Data Analytics Scientist', 'https://hh.ru/vacancy/35144225?query=data%20engineer')\n",
      "Page #4, first vacancy --> ('Data Engineer', 'https://hh.ru/vacancy/35117533?query=data%20engineer')\n",
      "Page #5, first vacancy --> ('Data scientist / Специалист машинного обучения', 'https://hh.ru/vacancy/34964095?query=data%20engineer')\n",
      "Page #6, first vacancy --> ('Big Data Engineer (with a long-term business trip to the USA)', 'https://hh.ru/vacancy/35091499?query=data%20engineer')\n",
      "Page #7, first vacancy --> ('Lead Data Engineer/Data Scientist', 'https://hh.ru/vacancy/35074592?query=data%20engineer')\n",
      "Page #8, first vacancy --> ('Data Engineer', 'https://hh.ru/vacancy/34985784?query=data%20engineer')\n",
      "Page #9, first vacancy --> ('Data engineer (SQL)', 'https://hh.ru/vacancy/32093638?query=data%20engineer')\n",
      "Page #10, first vacancy --> ('Data Scientist (г.Краснодар)', 'https://hh.ru/vacancy/35049717?query=data%20engineer')\n",
      "Page #11, first vacancy --> ('Data Scientist', 'https://hh.ru/vacancy/35048941?query=data%20engineer')\n",
      "Page #12, first vacancy --> ('Machine learning/computer vision engineer', 'https://hh.ru/vacancy/34649296?query=data%20engineer')\n",
      "Page #13, first vacancy --> ('Test Automation Engineer (T.Vision)', 'https://hh.ru/vacancy/33509659?query=data%20engineer')\n",
      "Page #14, first vacancy --> ('Data Scientist / ML Engineer', 'https://hh.ru/vacancy/34624230?query=data%20engineer')\n",
      "Page #15, first vacancy --> ('Big Data Engineer', 'https://hh.ru/vacancy/33239755?query=data%20engineer')\n",
      "Page #16, first vacancy --> ('Начальник бюро функционально-системного анализа', 'https://hh.ru/vacancy/34986453?query=data%20engineer')\n",
      "Page #17, first vacancy --> ('Стажер в отдел PPC', 'https://hh.ru/vacancy/35034608?query=data%20engineer')\n",
      "Page #18, first vacancy --> ('DevOps Engineer', 'https://hh.ru/vacancy/32654934?query=data%20engineer')\n",
      "Page #19, first vacancy --> ('Инженер-схемотехник систем связи', 'https://hh.ru/vacancy/33925263?query=data%20engineer')\n",
      "Page #20, first vacancy --> ('Дата-Инженер', 'https://hh.ru/vacancy/35142763?query=data%20engineer')\n",
      "Page #21, first vacancy --> ('Аналитик данных (Дивизион `Массовая персонализация`)', 'https://hh.ru/vacancy/35117274?query=data%20engineer')\n",
      "Page #22, first vacancy --> ('Ведущий инженер машинного обучения', 'https://hh.ru/vacancy/34855874?query=data%20engineer')\n",
      "Page #23, first vacancy --> ('Wireless Site Engineer (Сайт Инженер) в Челябинск', 'https://hh.ru/vacancy/34334979?query=data%20engineer')\n",
      "Page #24, first vacancy --> ('Администратор баз данных', 'https://hh.ru/vacancy/34852960?query=data%20engineer')\n",
      "Page #25, first vacancy --> ('Integration Security Manager (Cloud Security)', 'https://hh.ru/vacancy/30833980?query=data%20engineer')\n",
      "Page #26, first vacancy --> ('Technical supervision team lead', 'https://hh.ru/vacancy/35080168?query=data%20engineer')\n",
      "Page #27, first vacancy --> ('Application engineer', 'https://hh.ru/vacancy/35057238?query=data%20engineer')\n",
      "Page #28, first vacancy --> ('Security Engineer', 'https://hh.ru/vacancy/28723696?query=data%20engineer')\n",
      "Page #29, first vacancy --> ('Senior / Lead QA', 'https://hh.ru/vacancy/33727610?query=data%20engineer')\n",
      "Page #30, first vacancy --> ('Mobile Engineer (Android) for QuantumSoft Office in Tomsk / Saint Petersburg', 'https://hh.ru/vacancy/35039274?query=data%20engineer')\n",
      "Page #31, first vacancy --> ('QA Engineer (Finance/IT Group)', 'https://hh.ru/vacancy/35019840?query=data%20engineer')\n",
      "Page #32, first vacancy --> ('Lead React.js Engineer', 'https://hh.ru/vacancy/35123962?query=data%20engineer')\n",
      "Page #33, first vacancy --> ('Главный инженер по разработке 4', 'https://hh.ru/vacancy/34373723?query=data%20engineer')\n",
      "Page #34, first vacancy --> ('Test Automation Engineer', 'https://hh.ru/vacancy/33945148?query=data%20engineer')\n",
      "Page #35, first vacancy --> ('Business / System Analyst (to Poland or Serbia)', 'https://hh.ru/vacancy/35000788?query=data%20engineer')\n",
      "Page #36, first vacancy --> ('Senior Node.js Developer (Back-end)', 'https://hh.ru/vacancy/34977025?query=data%20engineer')\n",
      "Page #37, first vacancy --> ('Старший инженер по поддержке отказоустойчивости платформ', 'https://hh.ru/vacancy/34991196?query=data%20engineer')\n",
      "Page #38, first vacancy --> ('Инженер Cisco (корпоративные сети)', 'https://hh.ru/vacancy/35102136?query=data%20engineer')\n",
      "Page #39, first vacancy --> ('Quality Assurance Engineer / Инженер по качеству разработки программного обеспечения', 'https://hh.ru/vacancy/34856390?query=data%20engineer')\n"
     ]
    }
   ],
   "source": [
    "headers = {\n",
    "    'accept': '*/*',\n",
    "    'user-agent': 'Mozilla/5.0 (X11; Linux x86_64) AppleWebKit/537.36 (KHTML, like Gecko) Chrome/79.0.3945.79 Safari/537.36'    \n",
    "}\n",
    "\n",
    "base_url='https://hh.ru/search/vacancy?search_period=30&clusters=true&area=113&text=data+engineer&enable_snippets=true'\n",
    "\n",
    "# На выходе получаем словарь --> {page_num : [(job_title, job_href), ..,]}\n",
    "session = requests.Session()\n",
    "all_vacancies = []\n",
    "vacancies = {}\n",
    "\n",
    "for page_num in range(40):    \n",
    "    html = session.get(base_url + f'&page={page_num}', headers=headers).content\n",
    "    soup = BeautifulSoup(html, 'html.parser')\n",
    "\n",
    "    div_vacancies = soup.find_all(\n",
    "        'div', \n",
    "        attrs={'data-qa': ['vacancy-serp__vacancy', 'vacancy-serp__vacancy vacancy-serp__vacancy_premium']})\n",
    "    \n",
    "    a_vacancies = [div.find('a', attrs={'data-qa': 'vacancy-serp__vacancy-title'}) for div in div_vacancies]\n",
    "\n",
    "    vacancies[page_num] = []\n",
    "    for a in a_vacancies:\n",
    "        all_vacancies.append((a.text, a['href']))\n",
    "        vacancies[page_num].append((a.text, a['href']))\n",
    "    \n",
    "    if all_vacancies[-1] == all_vacancies[-2]:\n",
    "        break\n",
    "    else:   \n",
    "        print(f'Page #{page_num}, first vacancy --> {all_vacancies[-1]}')\n",
    "    \n",
    "    time.sleep(1)"
   ]
  },
  {
   "cell_type": "code",
   "execution_count": 360,
   "metadata": {},
   "outputs": [
    {
     "name": "stdout",
     "output_type": "stream",
     "text": [
      "Найдено 151/800 релевантных вакансий по ключевым словам.\n"
     ]
    }
   ],
   "source": [
    "need_titles = [\n",
    "    'data engineer', \n",
    "    'data-engineer', \n",
    "    'big data', \n",
    "    'bigdata', \n",
    "    'dwh', \n",
    "    'дата-инженер', \n",
    "    'дата инженер',\n",
    "    'инженер данных',\n",
    "    'hadoop']\n",
    "\n",
    "data = []\n",
    "counter = 0\n",
    "\n",
    "for title, href in all_vacancies:\n",
    "    title = title.lower()\n",
    "    if not any([t in title for t in need_titles]):\n",
    "        continue \n",
    "   \n",
    "    counter += 1    \n",
    "    html = session.get(href, headers=headers).content\n",
    "    soup = BeautifulSoup(html, 'html.parser')\n",
    "        \n",
    "    vacancy_desc = soup.find('div', {'class': 'vacancy-description'})\n",
    "\n",
    "    experience = vacancy_desc.find('span', attrs={'data-qa': 'vacancy-experience'}).text\n",
    "    salary = vacancy_desc.find('p', attrs={'class': 'vacancy-salary'})\n",
    "    core_skills = []\n",
    "    \n",
    "    for div in soup.find_all('div', attrs={'class': 'vacancy-section'}):\n",
    "        header = div.find('h2')\n",
    "        if isinstance(header, Tag) and header.text.lower() == 'ключевые навыки':\n",
    "            core_skills = list(set([span.text for span in div.find_all('span')]))\n",
    "    \n",
    "#     print(f'Title: {title}')\n",
    "#     print(f'Link : {href}')\n",
    "#     print(f'Exptected experience: {experience}')\n",
    "#     print(f'Salary              : {salary}')\n",
    "#     print(f'Core skills         : {core_skills}')\n",
    "#     print('\\n')\n",
    "    \n",
    "    data.append((title, experience, salary, core_skills))\n",
    "\n",
    "print(f'Найдено {counter}/{len(all_vacancies)} релевантных вакансий по ключевым словам.')"
   ]
  },
  {
   "cell_type": "code",
   "execution_count": 361,
   "metadata": {},
   "outputs": [],
   "source": [
    "required_skills = list(map(lambda skill: skill.lower(), chain(*[vac[-1] for vac in data])))\n",
    "dct = Counter(required_skills)"
   ]
  },
  {
   "cell_type": "code",
   "execution_count": 376,
   "metadata": {},
   "outputs": [
    {
     "data": {
      "text/plain": [
       "100.0"
      ]
     },
     "execution_count": 376,
     "metadata": {},
     "output_type": "execute_result"
    }
   ],
   "source": []
  },
  {
   "cell_type": "code",
   "execution_count": 369,
   "metadata": {},
   "outputs": [
    {
     "ename": "TypeError",
     "evalue": "'builtin_function_or_method' object is not iterable",
     "output_type": "error",
     "traceback": [
      "\u001b[0;31m---------------------------------------------------------------------------\u001b[0m",
      "\u001b[0;31mTypeError\u001b[0m                                 Traceback (most recent call last)",
      "\u001b[0;32m<ipython-input-369-904e7fe1f937>\u001b[0m in \u001b[0;36m<module>\u001b[0;34m\u001b[0m\n\u001b[0;32m----> 1\u001b[0;31m \u001b[0mshares\u001b[0m \u001b[0;34m=\u001b[0m \u001b[0;34m[\u001b[0m\u001b[0mpl_entries\u001b[0m\u001b[0;34m/\u001b[0m\u001b[0mtotal\u001b[0m \u001b[0;32mfor\u001b[0m \u001b[0mpl_entries\u001b[0m \u001b[0;32min\u001b[0m \u001b[0mpls\u001b[0m\u001b[0;34m.\u001b[0m\u001b[0mvalues\u001b[0m\u001b[0;34m]\u001b[0m\u001b[0;34m\u001b[0m\u001b[0;34m\u001b[0m\u001b[0m\n\u001b[0m",
      "\u001b[0;31mTypeError\u001b[0m: 'builtin_function_or_method' object is not iterable"
     ]
    }
   ],
   "source": []
  },
  {
   "cell_type": "code",
   "execution_count": null,
   "metadata": {},
   "outputs": [],
   "source": []
  },
  {
   "cell_type": "code",
   "execution_count": 365,
   "metadata": {},
   "outputs": [
    {
     "data": {
      "text/plain": [
       "188"
      ]
     },
     "execution_count": 365,
     "metadata": {},
     "output_type": "execute_result"
    }
   ],
   "source": [
    "sum(pls.values())"
   ]
  },
  {
   "cell_type": "code",
   "execution_count": 356,
   "metadata": {},
   "outputs": [
    {
     "data": {
      "text/plain": [
       "Text(0.5, 1.0, 'Programming language usage (85 vacancies)')"
      ]
     },
     "execution_count": 356,
     "metadata": {},
     "output_type": "execute_result"
    },
    {
     "data": {
      "image/png": "[encoded data removed]",
      "text/plain": [
       "<Figure size 432x288 with 1 Axes>"
      ]
     },
     "metadata": {
      "needs_background": "light"
     },
     "output_type": "display_data"
    }
   ],
   "source": [
    "frameworks_and_databases = {\n",
    "    'Hive': dct['hive'],\n",
    "    'Kafka': dct['kafka'],\n",
    "    'Greenplum': dct['greenplum'],\n",
    "    'Clickhouse': dct['clickhouse'],\n",
    "    'MS SQL Server': dct['ms sql server'] + dct['ms sql'],\n",
    "    'Oracle': dct['oracle'] + dct['база данных: oracle'],\n",
    "    'PostgreSQL': dct['postgresql'],\n",
    "    'MySQL': dct['mysql'],\n",
    "    'Redis': dct['redis'],\n",
    "    'MongoDB': dct['mongodb'],\n",
    "    'Oracle PL/SQL': dct['oracle pl/sql'],\n",
    "    'Spark': dct['spark'],\n",
    "    'AirFlow': dct['airflow'],\n",
    "    'Hadoop': dct['hadoop'] + dct['hdfs'],\n",
    "    'Docker': dct['docker']\n",
    "}\n",
    "\n",
    "x = frameworks_and_databases.keys()\n",
    "y = frameworks_and_databases.values()\n",
    "y_pos = np.arange(len(x))\n",
    "\n",
    "plt.bar(y_pos, y, align='center')\n",
    "plt.xticks(y_pos, x)\n",
    "plt.ylabel('Frequences')\n",
    "plt.title('Programming language usage (85 vacancies)')"
   ]
  },
  {
   "cell_type": "code",
   "execution_count": 342,
   "metadata": {},
   "outputs": [
    {
     "data": {
      "text/plain": [
       "Counter({'hive': 3,\n",
       "         'nosql': 2,\n",
       "         'python': 33,\n",
       "         'presto': 1,\n",
       "         'data pipeline': 1,\n",
       "         'kafka': 9,\n",
       "         'java': 15,\n",
       "         'google cloud': 1,\n",
       "         'тренинги': 1,\n",
       "         'английский язык': 3,\n",
       "         'greenplum': 2,\n",
       "         'английский\\xa0— a1 — начальный': 1,\n",
       "         'big data': 9,\n",
       "         'clickhouse': 4,\n",
       "         'публичные выступления': 1,\n",
       "         'обучение и развитие': 2,\n",
       "         'c++': 6,\n",
       "         'ms sql server': 4,\n",
       "         'ms powerpoint': 1,\n",
       "         'sql': 37,\n",
       "         'json api': 1,\n",
       "         'transact-sql': 1,\n",
       "         'xml': 1,\n",
       "         'bash': 1,\n",
       "         'linux': 8,\n",
       "         'sas': 1,\n",
       "         'oracle': 4,\n",
       "         'spark': 11,\n",
       "         'oracle pl/sql': 3,\n",
       "         'математическое моделирование': 1,\n",
       "         'машинное обучение': 1,\n",
       "         'data analysis': 3,\n",
       "         'matlab': 1,\n",
       "         'scrum': 2,\n",
       "         'английский\\xa0— c1 — продвинутый': 2,\n",
       "         'data mining': 5,\n",
       "         'ms sql': 7,\n",
       "         'сборка витрин': 1,\n",
       "         'нормализация данных': 1,\n",
       "         'dataset': 1,\n",
       "         'анализ данных': 4,\n",
       "         'формирование метрик': 1,\n",
       "         'закупка товаров и услуг': 1,\n",
       "         '1с: бухгалтерия': 1,\n",
       "         'rancher': 1,\n",
       "         'hdfs': 1,\n",
       "         'hazelcast': 1,\n",
       "         'luigi': 1,\n",
       "         'docker': 2,\n",
       "         'mongodb': 3,\n",
       "         'scala': 11,\n",
       "         'redis': 3,\n",
       "         'oozie': 1,\n",
       "         'системный анализ': 1,\n",
       "         'базы данных': 4,\n",
       "         'работа в команде': 3,\n",
       "         'olap-структуры': 1,\n",
       "         'etl': 3,\n",
       "         'hadoop': 8,\n",
       "         'iron python': 1,\n",
       "         'uml': 2,\n",
       "         'git': 4,\n",
       "         'postgresql': 6,\n",
       "         'субд': 2,\n",
       "         'ооп': 1,\n",
       "         'olap (online analytical processing)': 1,\n",
       "         'atlassian jira': 4,\n",
       "         'atlassian confluence': 3,\n",
       "         'it': 1,\n",
       "         'java se': 3,\n",
       "         'управление командой': 1,\n",
       "         'аналитическое мышление': 3,\n",
       "         'ms visual studio': 1,\n",
       "         'data engineer': 1,\n",
       "         'kubernetes': 2,\n",
       "         'rabbitmq': 2,\n",
       "         'nginx': 1,\n",
       "         'memcached': 1,\n",
       "         'cистемы управления базами данных': 2,\n",
       "         'openshift': 1,\n",
       "         'mysql': 2,\n",
       "         'google analytics': 1,\n",
       "         'работа с базами данных': 3,\n",
       "         'rest': 1,\n",
       "         'ms visio': 1,\n",
       "         'agile project management': 1,\n",
       "         'django framework': 2,\n",
       "         'airflow': 1,\n",
       "         'dq': 1,\n",
       "         'архитектурный консалтинг': 1,\n",
       "         'dwh': 1,\n",
       "         'поиск информации в интернет': 1,\n",
       "         'teambuilding': 1,\n",
       "         'база данных: oracle': 1,\n",
       "         'spring framework': 2,\n",
       "         'aws': 1,\n",
       "         'английский\\xa0— b1 — средний': 1,\n",
       "         'flask': 1,\n",
       "         'английский\\xa0— b2 — средне-продвинутый': 1,\n",
       "         'android': 1,\n",
       "         'системное мышление': 1,\n",
       "         'управление проектами': 1,\n",
       "         'управление временем': 1,\n",
       "         'инновационный менеджмент': 1,\n",
       "         'сэд': 1,\n",
       "         'javascript': 1,\n",
       "         'angularjs': 1,\n",
       "         'hibernate orm': 1,\n",
       "         'ios': 1})"
      ]
     },
     "execution_count": 342,
     "metadata": {},
     "output_type": "execute_result"
    }
   ],
   "source": [
    "dct"
   ]
  }
 ],
 "metadata": {
  "kernelspec": {
   "display_name": "Python 3",
   "language": "python",
   "name": "python3"
  },
  "language_info": {
   "codemirror_mode": {
    "name": "ipython",
    "version": 3
   },
   "file_extension": ".py",
   "mimetype": "text/x-python",
   "name": "python",
   "nbconvert_exporter": "python",
   "pygments_lexer": "ipython3",
   "version": "3.7.4"
  }
 },
 "nbformat": 4,
 "nbformat_minor": 4
}
